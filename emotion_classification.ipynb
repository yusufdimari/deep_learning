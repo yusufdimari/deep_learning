{
  "nbformat": 4,
  "nbformat_minor": 0,
  "metadata": {
    "colab": {
      "provenance": [],
      "gpuType": "T4",
      "authorship_tag": "ABX9TyN9eRORZtQtC7btOwIuqV1x",
      "include_colab_link": true
    },
    "kernelspec": {
      "name": "python3",
      "display_name": "Python 3"
    },
    "language_info": {
      "name": "python"
    },
    "accelerator": "GPU"
  },
  "cells": [
    {
      "cell_type": "markdown",
      "metadata": {
        "id": "view-in-github",
        "colab_type": "text"
      },
      "source": [
        "<a href=\"https://colab.research.google.com/github/yusufdimari/deep_learning/blob/main/emotion_classification.ipynb\" target=\"_parent\"><img src=\"https://colab.research.google.com/assets/colab-badge.svg\" alt=\"Open In Colab\"/></a>"
      ]
    },
    {
      "cell_type": "code",
      "execution_count": 3,
      "metadata": {
        "id": "kPvBQN4X-Eq5"
      },
      "outputs": [],
      "source": [
        "import numpy as np"
      ]
    },
    {
      "cell_type": "code",
      "source": [
        "# Load the facial expression data\n",
        "faces = np.load('Facial expression.npy')\n",
        "labels = np.load('Facial expression label.npy')\n",
        "\n",
        "# Check the shape of the data\n",
        "print(f\"Faces shape: {faces.shape}\")\n",
        "print(f\"Labels shape: {labels.shape}\")\n"
      ],
      "metadata": {
        "colab": {
          "base_uri": "https://localhost:8080/"
        },
        "id": "GG2PygCt-UdQ",
        "outputId": "eb10fd8c-cf30-409f-9431-f75bbe3f972f"
      },
      "execution_count": 5,
      "outputs": [
        {
          "output_type": "stream",
          "name": "stdout",
          "text": [
            "Faces shape: (19950, 48, 48, 3)\n",
            "Labels shape: (19950, 4)\n"
          ]
        }
      ]
    },
    {
      "cell_type": "code",
      "source": [
        "# Convert to grayscale by selecting one channel\n",
        "faces_gray = faces[..., 0]  # Extract the first channel\n",
        "\n",
        "# Normalize the pixel values to the range [0, 1]\n",
        "faces_gray = faces_gray / 255.0\n",
        "\n",
        "# Check shape and range\n",
        "print(f\"Normalized data shape: {faces_gray.shape}\")\n",
        "print(f\"Pixel range: min={faces_gray.min()}, max={faces_gray.max()}\")\n"
      ],
      "metadata": {
        "colab": {
          "base_uri": "https://localhost:8080/"
        },
        "collapsed": true,
        "id": "klqRvvXf-qU7",
        "outputId": "4a92f44f-7aa0-455c-f8b0-4cee09e7038a"
      },
      "execution_count": 6,
      "outputs": [
        {
          "output_type": "stream",
          "name": "stdout",
          "text": [
            "Normalized data shape: (19950, 48, 48)\n",
            "Pixel range: min=0.0, max=1.0\n"
          ]
        }
      ]
    },
    {
      "cell_type": "code",
      "source": [
        "from sklearn.model_selection import train_test_split\n",
        "\n",
        "X_train, X_temp, y_train,y_temp=train_test_split(faces_gray,labels,test_size=0.2,random_state=42)\n",
        "X_val, X_test, y_val, y_test=train_test_split(X_temp,y_temp,test_size=0.5,random_state=42)\n",
        "print(f\"Training data: {X_train.shape}, {y_train.shape}\")\n",
        "print(f\"Validation data: {X_val.shape}, {y_val.shape}\")\n",
        "print(f\"Test data: {X_test.shape}, {y_test.shape}\")"
      ],
      "metadata": {
        "colab": {
          "base_uri": "https://localhost:8080/"
        },
        "id": "Gg4fWxeB_m-w",
        "outputId": "bb148090-ec86-49cd-fe84-cc2bb972c5f2"
      },
      "execution_count": 7,
      "outputs": [
        {
          "output_type": "stream",
          "name": "stdout",
          "text": [
            "Training data: (15960, 48, 48), (15960, 4)\n",
            "Validation data: (1995, 48, 48), (1995, 4)\n",
            "Test data: (1995, 48, 48), (1995, 4)\n"
          ]
        }
      ]
    },
    {
      "cell_type": "code",
      "source": [
        "X_train=X_train[...,np.newaxis]\n",
        "X_val=X_val[...,np.newaxis]\n",
        "X_test=X_test[...,np.newaxis]\n",
        "# Verify the new shapes\n",
        "print(f\"Training data shape: {X_train.shape}\")\n",
        "print(f\"Validation data shape: {X_val.shape}\")\n",
        "print(f\"Test data shape: {X_test.shape}\")"
      ],
      "metadata": {
        "colab": {
          "base_uri": "https://localhost:8080/"
        },
        "id": "eYwtaFZ0gxTl",
        "outputId": "e2255492-1056-4333-8383-4bd524f060bd"
      },
      "execution_count": 8,
      "outputs": [
        {
          "output_type": "stream",
          "name": "stdout",
          "text": [
            "Training data shape: (15960, 48, 48, 1)\n",
            "Validation data shape: (1995, 48, 48, 1)\n",
            "Test data shape: (1995, 48, 48, 1)\n"
          ]
        }
      ]
    },
    {
      "cell_type": "code",
      "source": [
        "import tensorflow as tf\n",
        "from tensorflow.keras import layers, models\n",
        "from tensorflow.keras.preprocessing.image import ImageDataGenerator\n",
        "\n",
        "model=models.Sequential([\n",
        "    layers.Input(shape=(48,48,1)), #Input Layer\n",
        "    layers.Conv2D(32,(3,3), activation='relu'), # First convolutional layer\n",
        "    layers.MaxPooling2D((2,2)),  # First pooling layer\n",
        "    layers.Conv2D(64, (3, 3), activation='relu'),  # Second convolutional layer\n",
        "    layers.MaxPooling2D((2, 2)),  # Second pooling layer\n",
        "    layers.Conv2D(128, (3, 3), activation='relu'),  # Third convolutional layer\n",
        "    layers.Flatten(),  # Flatten the 3D output to 1D for the dense layer\n",
        "    layers.Dense(128, activation='relu'),  # Fully connected (dense) layer\n",
        "    layers.Dense(4, activation='softmax')  # Output layer with 4 classes\n",
        "])"
      ],
      "metadata": {
        "id": "u1sWA1t_hNLw"
      },
      "execution_count": 10,
      "outputs": []
    },
    {
      "cell_type": "code",
      "source": [
        "#Compile the model\n",
        "model.compile(optimizer='adam', loss='categorical_crossentropy', metrics=['accuracy'])"
      ],
      "metadata": {
        "id": "3lxJyLr5iEov"
      },
      "execution_count": 11,
      "outputs": []
    },
    {
      "cell_type": "code",
      "source": [
        "history=model.fit(X_train,y_train,epochs=20,batch_size=64, validation_data=(X_val,y_val))"
      ],
      "metadata": {
        "colab": {
          "base_uri": "https://localhost:8080/"
        },
        "id": "RWCeP2P8i1Zn",
        "outputId": "75bf844b-0ee3-4a04-d434-cb05acaa756f"
      },
      "execution_count": 13,
      "outputs": [
        {
          "output_type": "stream",
          "name": "stdout",
          "text": [
            "Epoch 1/20\n",
            "\u001b[1m250/250\u001b[0m \u001b[32m━━━━━━━━━━━━━━━━━━━━\u001b[0m\u001b[37m\u001b[0m \u001b[1m58s\u001b[0m 230ms/step - accuracy: 0.4525 - loss: 1.2078 - val_accuracy: 0.6040 - val_loss: 0.9671\n",
            "Epoch 2/20\n",
            "\u001b[1m250/250\u001b[0m \u001b[32m━━━━━━━━━━━━━━━━━━━━\u001b[0m\u001b[37m\u001b[0m \u001b[1m77s\u001b[0m 212ms/step - accuracy: 0.6240 - loss: 0.9250 - val_accuracy: 0.6662 - val_loss: 0.8436\n",
            "Epoch 3/20\n",
            "\u001b[1m250/250\u001b[0m \u001b[32m━━━━━━━━━━━━━━━━━━━━\u001b[0m\u001b[37m\u001b[0m \u001b[1m54s\u001b[0m 215ms/step - accuracy: 0.6830 - loss: 0.7999 - val_accuracy: 0.6932 - val_loss: 0.7807\n",
            "Epoch 4/20\n",
            "\u001b[1m250/250\u001b[0m \u001b[32m━━━━━━━━━━━━━━━━━━━━\u001b[0m\u001b[37m\u001b[0m \u001b[1m80s\u001b[0m 209ms/step - accuracy: 0.7253 - loss: 0.6975 - val_accuracy: 0.7013 - val_loss: 0.7584\n",
            "Epoch 5/20\n",
            "\u001b[1m250/250\u001b[0m \u001b[32m━━━━━━━━━━━━━━━━━━━━\u001b[0m\u001b[37m\u001b[0m \u001b[1m82s\u001b[0m 209ms/step - accuracy: 0.7578 - loss: 0.6279 - val_accuracy: 0.7118 - val_loss: 0.7443\n",
            "Epoch 6/20\n",
            "\u001b[1m250/250\u001b[0m \u001b[32m━━━━━━━━━━━━━━━━━━━━\u001b[0m\u001b[37m\u001b[0m \u001b[1m82s\u001b[0m 208ms/step - accuracy: 0.7879 - loss: 0.5628 - val_accuracy: 0.7203 - val_loss: 0.7409\n",
            "Epoch 7/20\n",
            "\u001b[1m250/250\u001b[0m \u001b[32m━━━━━━━━━━━━━━━━━━━━\u001b[0m\u001b[37m\u001b[0m \u001b[1m82s\u001b[0m 207ms/step - accuracy: 0.8142 - loss: 0.5099 - val_accuracy: 0.7263 - val_loss: 0.7298\n",
            "Epoch 8/20\n",
            "\u001b[1m250/250\u001b[0m \u001b[32m━━━━━━━━━━━━━━━━━━━━\u001b[0m\u001b[37m\u001b[0m \u001b[1m84s\u001b[0m 215ms/step - accuracy: 0.8352 - loss: 0.4441 - val_accuracy: 0.7193 - val_loss: 0.7471\n",
            "Epoch 9/20\n",
            "\u001b[1m250/250\u001b[0m \u001b[32m━━━━━━━━━━━━━━━━━━━━\u001b[0m\u001b[37m\u001b[0m \u001b[1m55s\u001b[0m 220ms/step - accuracy: 0.8658 - loss: 0.3654 - val_accuracy: 0.7123 - val_loss: 0.7967\n",
            "Epoch 10/20\n",
            "\u001b[1m250/250\u001b[0m \u001b[32m━━━━━━━━━━━━━━━━━━━━\u001b[0m\u001b[37m\u001b[0m \u001b[1m80s\u001b[0m 212ms/step - accuracy: 0.8965 - loss: 0.2958 - val_accuracy: 0.7088 - val_loss: 0.8988\n",
            "Epoch 11/20\n",
            "\u001b[1m250/250\u001b[0m \u001b[32m━━━━━━━━━━━━━━━━━━━━\u001b[0m\u001b[37m\u001b[0m \u001b[1m83s\u001b[0m 218ms/step - accuracy: 0.9208 - loss: 0.2328 - val_accuracy: 0.7173 - val_loss: 0.9544\n",
            "Epoch 12/20\n",
            "\u001b[1m250/250\u001b[0m \u001b[32m━━━━━━━━━━━━━━━━━━━━\u001b[0m\u001b[37m\u001b[0m \u001b[1m80s\u001b[0m 211ms/step - accuracy: 0.9477 - loss: 0.1653 - val_accuracy: 0.7158 - val_loss: 1.0697\n",
            "Epoch 13/20\n",
            "\u001b[1m250/250\u001b[0m \u001b[32m━━━━━━━━━━━━━━━━━━━━\u001b[0m\u001b[37m\u001b[0m \u001b[1m53s\u001b[0m 211ms/step - accuracy: 0.9606 - loss: 0.1211 - val_accuracy: 0.7113 - val_loss: 1.2242\n",
            "Epoch 14/20\n",
            "\u001b[1m250/250\u001b[0m \u001b[32m━━━━━━━━━━━━━━━━━━━━\u001b[0m\u001b[37m\u001b[0m \u001b[1m83s\u001b[0m 217ms/step - accuracy: 0.9775 - loss: 0.0780 - val_accuracy: 0.7123 - val_loss: 1.3971\n",
            "Epoch 15/20\n",
            "\u001b[1m250/250\u001b[0m \u001b[32m━━━━━━━━━━━━━━━━━━━━\u001b[0m\u001b[37m\u001b[0m \u001b[1m81s\u001b[0m 213ms/step - accuracy: 0.9847 - loss: 0.0546 - val_accuracy: 0.7053 - val_loss: 1.5193\n",
            "Epoch 16/20\n",
            "\u001b[1m250/250\u001b[0m \u001b[32m━━━━━━━━━━━━━━━━━━━━\u001b[0m\u001b[37m\u001b[0m \u001b[1m81s\u001b[0m 211ms/step - accuracy: 0.9819 - loss: 0.0597 - val_accuracy: 0.7168 - val_loss: 1.6339\n",
            "Epoch 17/20\n",
            "\u001b[1m250/250\u001b[0m \u001b[32m━━━━━━━━━━━━━━━━━━━━\u001b[0m\u001b[37m\u001b[0m \u001b[1m83s\u001b[0m 213ms/step - accuracy: 0.9900 - loss: 0.0355 - val_accuracy: 0.7003 - val_loss: 1.7052\n",
            "Epoch 18/20\n",
            "\u001b[1m250/250\u001b[0m \u001b[32m━━━━━━━━━━━━━━━━━━━━\u001b[0m\u001b[37m\u001b[0m \u001b[1m81s\u001b[0m 209ms/step - accuracy: 0.9830 - loss: 0.0499 - val_accuracy: 0.7068 - val_loss: 1.7865\n",
            "Epoch 19/20\n",
            "\u001b[1m250/250\u001b[0m \u001b[32m━━━━━━━━━━━━━━━━━━━━\u001b[0m\u001b[37m\u001b[0m \u001b[1m83s\u001b[0m 212ms/step - accuracy: 0.9952 - loss: 0.0235 - val_accuracy: 0.6957 - val_loss: 1.8641\n",
            "Epoch 20/20\n",
            "\u001b[1m250/250\u001b[0m \u001b[32m━━━━━━━━━━━━━━━━━━━━\u001b[0m\u001b[37m\u001b[0m \u001b[1m55s\u001b[0m 220ms/step - accuracy: 0.9859 - loss: 0.0429 - val_accuracy: 0.6962 - val_loss: 1.8480\n"
          ]
        }
      ]
    },
    {
      "cell_type": "code",
      "source": [
        "test_loss, test_acc = model.evaluate(X_test, y_test)\n",
        "print(f\"Test Accuracy: {test_acc:.4f}\")"
      ],
      "metadata": {
        "colab": {
          "base_uri": "https://localhost:8080/"
        },
        "id": "YydwyD-XpRCI",
        "outputId": "45e41305-8e1e-4f90-ffde-56171bbedf03"
      },
      "execution_count": 15,
      "outputs": [
        {
          "output_type": "stream",
          "name": "stdout",
          "text": [
            "\u001b[1m63/63\u001b[0m \u001b[32m━━━━━━━━━━━━━━━━━━━━\u001b[0m\u001b[37m\u001b[0m \u001b[1m4s\u001b[0m 57ms/step - accuracy: 0.7225 - loss: 1.7508\n",
            "Test Accuracy: 0.7168\n"
          ]
        }
      ]
    },
    {
      "cell_type": "code",
      "source": [
        "import matplotlib.pyplot as plt\n",
        "\n",
        "plt.figure(figsize=(12, 4))\n",
        "plt.plot(history.history['accuracy'], label='Training Accuracy')\n",
        "plt.plot(history.history['val_accuracy'], label='Validation Accuracy')\n",
        "plt.xlabel('Epochs')\n",
        "plt.ylabel('Accuracy')\n",
        "plt.legend()\n",
        "plt.show()\n"
      ],
      "metadata": {
        "colab": {
          "base_uri": "https://localhost:8080/",
          "height": 388
        },
        "id": "XyswANHup-J9",
        "outputId": "45735603-6fa6-4b6f-d7c2-c93dae396918"
      },
      "execution_count": 16,
      "outputs": [
        {
          "output_type": "display_data",
          "data": {
            "text/plain": [
              "<Figure size 1200x400 with 1 Axes>"
            ],
            "image/png": "[encoded data removed]"
          },
          "metadata": {}
        }
      ]
    },
    {
      "cell_type": "code",
      "source": [
        "model.save('Facial_expression_model.h5')\n",
        "model.save_weights('Facial_expression.weights.h5')"
      ],
      "metadata": {
        "colab": {
          "base_uri": "https://localhost:8080/"
        },
        "id": "mrD5faRRqSds",
        "outputId": "c5fc4879-eebd-4395-c026-ea6bc6cf2e1f"
      },
      "execution_count": 18,
      "outputs": [
        {
          "output_type": "stream",
          "name": "stderr",
          "text": [
            "WARNING:absl:You are saving your model as an HDF5 file via `model.save()` or `keras.saving.save_model(model)`. This file format is considered legacy. We recommend using instead the native Keras format, e.g. `model.save('my_model.keras')` or `keras.saving.save_model(model, 'my_model.keras')`. \n"
          ]
        }
      ]
    }
  ]
}